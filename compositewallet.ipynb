{
 "cells": [
  {
   "cell_type": "code",
   "execution_count": null,
   "metadata": {},
   "outputs": [],
   "source": [
    "import time\n",
    "import datetime\n",
    "import pandas as pd\n",
    "import yfinance as yf"
   ]
  },
  {
   "cell_type": "code",
   "execution_count": null,
   "metadata": {},
   "outputs": [],
   "source": [
    "VALE3_dataframe = pd.DataFrame\n",
    "AGRO3_dataframe = pd.DataFrame\n",
    "BBAS3_dataframe = pd.DataFrame\n",
    "WEGE3_dataframe = pd.DataFrame"
   ]
  },
  {
   "cell_type": "code",
   "execution_count": null,
   "metadata": {},
   "outputs": [],
   "source": [
    "start = datetime.datetime(2020,1,1) \n",
    "end = datetime.datetime(2022,7,20)"
   ]
  },
  {
   "cell_type": "code",
   "execution_count": null,
   "metadata": {},
   "outputs": [],
   "source": [
    "VALE3_dataframe = yf.download('VALE3.SA', start, end, progress= False)\n",
    "AGRO3_dataframe = yf.download('AGRO3.SA', start, end, progress= False)\n",
    "BBAS3_dataframe = yf.download('BBAS3.SA', start, end, progress= False)\n",
    "WEGE3_dataframe = yf.download('WEGE3.SA', start, end, progress= False)"
   ]
  },
  {
   "cell_type": "code",
   "execution_count": null,
   "metadata": {},
   "outputs": [],
   "source": [
    "VALE3_dataframe = VALE3_dataframe.drop(\"Open\",axis = 1)\n",
    "VALE3_dataframe = VALE3_dataframe.drop(\"High\",axis = 1)\n",
    "VALE3_dataframe = VALE3_dataframe.drop(\"Low\",axis = 1)\n",
    "VALE3_dataframe = VALE3_dataframe.drop(\"Adj Close\",axis = 1)\n",
    "VALE3_dataframe = VALE3_dataframe.drop(\"Volume\",axis = 1)"
   ]
  },
  {
   "cell_type": "code",
   "execution_count": null,
   "metadata": {},
   "outputs": [],
   "source": [
    "AGRO3_dataframe = AGRO3_dataframe.drop(\"Open\",axis = 1)\n",
    "AGRO3_dataframe = AGRO3_dataframe.drop(\"High\",axis = 1)\n",
    "AGRO3_dataframe = AGRO3_dataframe.drop(\"Low\",axis = 1)\n",
    "AGRO3_dataframe = AGRO3_dataframe.drop(\"Adj Close\",axis = 1)\n",
    "AGRO3_dataframe = AGRO3_dataframe.drop(\"Volume\",axis = 1)"
   ]
  },
  {
   "cell_type": "code",
   "execution_count": null,
   "metadata": {},
   "outputs": [],
   "source": [
    "BBAS3_dataframe = BBAS3_dataframe.drop(\"Open\",axis = 1)\n",
    "BBAS3_dataframe = BBAS3_dataframe.drop(\"High\",axis = 1)\n",
    "BBAS3_dataframe = BBAS3_dataframe.drop(\"Low\",axis = 1)\n",
    "BBAS3_dataframe = BBAS3_dataframe.drop(\"Adj Close\",axis = 1)\n",
    "BBAS3_dataframe = BBAS3_dataframe.drop(\"Volume\",axis = 1)"
   ]
  },
  {
   "cell_type": "code",
   "execution_count": null,
   "metadata": {},
   "outputs": [],
   "source": [
    "WEGE3_dataframe = WEGE3_dataframe.drop(\"Open\",axis = 1)\n",
    "WEGE3_dataframe = WEGE3_dataframe.drop(\"High\",axis = 1)\n",
    "WEGE3_dataframe = WEGE3_dataframe.drop(\"Low\",axis = 1)\n",
    "WEGE3_dataframe = WEGE3_dataframe.drop(\"Adj Close\",axis = 1)\n",
    "WEGE3_dataframe = WEGE3_dataframe.drop(\"Volume\",axis = 1)"
   ]
  },
  {
   "cell_type": "code",
   "execution_count": null,
   "metadata": {},
   "outputs": [],
   "source": [
    "VALE3_dataframe"
   ]
  },
  {
   "cell_type": "code",
   "execution_count": null,
   "metadata": {},
   "outputs": [],
   "source": [
    "VALE3_dataframe['Close'] = VALE3_dataframe ['Close']*30"
   ]
  },
  {
   "cell_type": "code",
   "execution_count": null,
   "metadata": {},
   "outputs": [],
   "source": [
    "VALE3_dataframe"
   ]
  },
  {
   "cell_type": "code",
   "execution_count": null,
   "metadata": {},
   "outputs": [],
   "source": [
    "AGRO3_dataframe['Close'] = AGRO3_dataframe ['Close']*20"
   ]
  },
  {
   "cell_type": "code",
   "execution_count": null,
   "metadata": {},
   "outputs": [],
   "source": [
    "BBAS3_dataframe['Close'] = BBAS3_dataframe ['Close']*25"
   ]
  },
  {
   "cell_type": "code",
   "execution_count": null,
   "metadata": {},
   "outputs": [],
   "source": [
    "WEGE3_dataframe['Close'] = WEGE3_dataframe ['Close']*25"
   ]
  },
  {
   "cell_type": "code",
   "execution_count": null,
   "metadata": {},
   "outputs": [],
   "source": [
    "carteira_dataframe = VALE3_dataframe.copy()"
   ]
  },
  {
   "cell_type": "code",
   "execution_count": null,
   "metadata": {},
   "outputs": [],
   "source": [
    "carteira_dataframe['Close'] = carteira_dataframe['Close']*0"
   ]
  },
  {
   "cell_type": "code",
   "execution_count": null,
   "metadata": {},
   "outputs": [],
   "source": [
    "for laux in range (632):\n",
    "    VALEvalor = VALE3_dataframe.iloc[laux, VALE3_dataframe.columns.get_loc('Close')]\n",
    "    AGROvalor = AGRO3_dataframe.iloc[laux, AGRO3_dataframe.columns.get_loc('Close')]\n",
    "    BBASvalor = BBAS3_dataframe.iloc[laux, BBAS3_dataframe.columns.get_loc('Close')]\n",
    "    WEGEvalor = WEGE3_dataframe.iloc[laux, WEGE3_dataframe.columns.get_loc('Close')]\n",
    "    carteira_dataframe.iat[laux,0] = ((VALEvalor + AGROvalor + BBASvalor + WEGEvalor)/100)"
   ]
  },
  {
   "cell_type": "code",
   "execution_count": null,
   "metadata": {},
   "outputs": [],
   "source": [
    "carteirainival = carteira_dataframe.iat[0,0]"
   ]
  },
  {
   "cell_type": "code",
   "execution_count": null,
   "metadata": {},
   "outputs": [],
   "source": [
    "carteira_dataframe['Close'] = (((carteira_dataframe['Close'] - carteirainival))/carteirainival)*100"
   ]
  },
  {
   "cell_type": "code",
   "execution_count": null,
   "metadata": {},
   "outputs": [],
   "source": [
    "carteira_dataframe.plot(y = 'Close', kind = 'line')"
   ]
  }
 ],
 "metadata": {
  "kernelspec": {
   "display_name": "Python 3.10.2 64-bit",
   "language": "python",
   "name": "python3"
  },
  "language_info": {
   "codemirror_mode": {
    "name": "ipython",
    "version": 3
   },
   "file_extension": ".py",
   "mimetype": "text/x-python",
   "name": "python",
   "nbconvert_exporter": "python",
   "pygments_lexer": "ipython3",
   "version": "3.10.2"
  },
  "orig_nbformat": 4,
  "vscode": {
   "interpreter": {
    "hash": "aee8b7b246df8f9039afb4144a1f6fd8d2ca17a180786b69acc140d282b71a49"
   }
  }
 },
 "nbformat": 4,
 "nbformat_minor": 2
}
