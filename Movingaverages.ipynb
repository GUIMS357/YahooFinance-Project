{
 "cells": [
  {
   "cell_type": "code",
   "execution_count": null,
   "metadata": {},
   "outputs": [],
   "source": [
    "import time\n",
    "import datetime\n",
    "import pandas as pd\n",
    "import yfinance as yf\n",
    "import matplotlib.pyplot as plt"
   ]
  },
  {
   "cell_type": "code",
   "execution_count": null,
   "metadata": {},
   "outputs": [],
   "source": [
    "IBOV_dataframe = pd.DataFrame"
   ]
  },
  {
   "cell_type": "code",
   "execution_count": null,
   "metadata": {},
   "outputs": [],
   "source": [
    "start = datetime.datetime(2019,1,1) \n",
    "end = datetime.datetime(2022,7,20)"
   ]
  },
  {
   "cell_type": "code",
   "execution_count": null,
   "metadata": {},
   "outputs": [],
   "source": [
    "IBOV_dataframe = yf.download('^BVSP', start, end, progress= False)"
   ]
  },
  {
   "cell_type": "code",
   "execution_count": null,
   "metadata": {},
   "outputs": [],
   "source": [
    "IBOV_dataframe = IBOV_dataframe.drop(\"Open\",axis = 1)\n",
    "IBOV_dataframe = IBOV_dataframe.drop(\"High\",axis = 1)\n",
    "IBOV_dataframe = IBOV_dataframe.drop(\"Low\",axis = 1)\n",
    "IBOV_dataframe = IBOV_dataframe.drop(\"Adj Close\",axis = 1)\n",
    "IBOV_dataframe = IBOV_dataframe.drop(\"Volume\",axis = 1)"
   ]
  },
  {
   "cell_type": "code",
   "execution_count": null,
   "metadata": {},
   "outputs": [],
   "source": [
    "MM8 = 0\n",
    "MM20 = 0\n",
    "MM200 = 0"
   ]
  },
  {
   "cell_type": "code",
   "execution_count": null,
   "metadata": {},
   "outputs": [],
   "source": [
    "IBOV_dataframe = IBOV_dataframe.assign(MM8=MM8)\n",
    "IBOV_dataframe = IBOV_dataframe.assign(MM20=MM20)\n",
    "IBOV_dataframe = IBOV_dataframe.assign(MM200=MM200)"
   ]
  },
  {
   "cell_type": "code",
   "execution_count": null,
   "metadata": {},
   "outputs": [],
   "source": [
    "IBOV_dataframe"
   ]
  },
  {
   "cell_type": "code",
   "execution_count": null,
   "metadata": {},
   "outputs": [],
   "source": [
    "IBOV_dataframe.iloc[248,:]"
   ]
  },
  {
   "cell_type": "code",
   "execution_count": null,
   "metadata": {},
   "outputs": [],
   "source": [
    "for laux in range (248,880):\n",
    "    for lauxm in reversed(range (200)):\n",
    "        MM200 = MM200 + IBOV_dataframe.iat[laux-lauxm,0]\n",
    "        if lauxm < 20 :\n",
    "            MM20 = MM20 + IBOV_dataframe.iat[laux-lauxm,0]\n",
    "            if lauxm < 8 :\n",
    "                MM8 = MM8 + IBOV_dataframe.iat[laux-lauxm,0]\n",
    "    IBOV_dataframe.iat[laux,1] = MM8/8\n",
    "    print(MM8/8)\n",
    "    IBOV_dataframe.iat[laux,2] = MM20/20\n",
    "    IBOV_dataframe.iat[laux,3] = MM200/200\n",
    "    MM8 = 0\n",
    "    MM20 = 0\n",
    "    MM200 = 0"
   ]
  },
  {
   "cell_type": "code",
   "execution_count": null,
   "metadata": {},
   "outputs": [],
   "source": [
    "IBOV_dataframe = IBOV_dataframe.iloc[248:880 , :]"
   ]
  },
  {
   "cell_type": "code",
   "execution_count": null,
   "metadata": {},
   "outputs": [],
   "source": [
    "f = plt.figure()\n",
    "f.set_figwidth(15)\n",
    "f.set_figheight(6)\n",
    "plt.plot (IBOV_dataframe.index, 'Close', data=IBOV_dataframe, color='blue', linewidth=1)\n",
    "plt.plot (IBOV_dataframe.index, 'MM8', data=IBOV_dataframe, color='green', linewidth=1)\n",
    "plt.plot (IBOV_dataframe.index, 'MM20', data=IBOV_dataframe, color='yellow', linewidth=1)\n",
    "plt.plot (IBOV_dataframe.index, 'MM200', data=IBOV_dataframe, color='red', linewidth=1)"
   ]
  }
 ],
 "metadata": {
  "kernelspec": {
   "display_name": "Python 3.10.2 64-bit",
   "language": "python",
   "name": "python3"
  },
  "language_info": {
   "codemirror_mode": {
    "name": "ipython",
    "version": 3
   },
   "file_extension": ".py",
   "mimetype": "text/x-python",
   "name": "python",
   "nbconvert_exporter": "python",
   "pygments_lexer": "ipython3",
   "version": "3.10.2"
  },
  "orig_nbformat": 4,
  "vscode": {
   "interpreter": {
    "hash": "aee8b7b246df8f9039afb4144a1f6fd8d2ca17a180786b69acc140d282b71a49"
   }
  }
 },
 "nbformat": 4,
 "nbformat_minor": 2
}
