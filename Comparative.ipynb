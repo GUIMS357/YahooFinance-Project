{
 "cells": [
  {
   "cell_type": "code",
   "execution_count": null,
   "metadata": {},
   "outputs": [],
   "source": [
    "import time\n",
    "import datetime\n",
    "import pandas as pd\n",
    "import yfinance as yf"
   ]
  },
  {
   "cell_type": "code",
   "execution_count": null,
   "metadata": {},
   "outputs": [],
   "source": [
    "PETR4_dataframe = pd.DataFrame\n",
    "VALE3_dataframe = pd.DataFrame"
   ]
  },
  {
   "cell_type": "code",
   "execution_count": null,
   "metadata": {},
   "outputs": [],
   "source": [
    "start = datetime.datetime(2020,1,1) \n",
    "end = datetime.datetime(2022,7,20)"
   ]
  },
  {
   "cell_type": "code",
   "execution_count": null,
   "metadata": {},
   "outputs": [],
   "source": [
    "PETR4_dataframe = yf.download('PETR4.SA', start, end, progress= False)\n",
    "VALE3_dataframe = yf.download('VALE3.SA', start, end, progress= False)"
   ]
  },
  {
   "cell_type": "code",
   "execution_count": null,
   "metadata": {},
   "outputs": [],
   "source": [
    "PETR4_dataframe = PETR4_dataframe.drop(\"Open\",axis = 1)\n",
    "PETR4_dataframe = PETR4_dataframe.drop(\"High\",axis = 1)\n",
    "PETR4_dataframe = PETR4_dataframe.drop(\"Low\",axis = 1)\n",
    "PETR4_dataframe = PETR4_dataframe.drop(\"Adj Close\",axis = 1)\n",
    "PETR4_dataframe = PETR4_dataframe.drop(\"Volume\",axis = 1)"
   ]
  },
  {
   "cell_type": "code",
   "execution_count": null,
   "metadata": {},
   "outputs": [],
   "source": [
    "VALE3_dataframe = VALE3_dataframe.drop(\"Open\",axis = 1)\n",
    "VALE3_dataframe = VALE3_dataframe.drop(\"High\",axis = 1)\n",
    "VALE3_dataframe = VALE3_dataframe.drop(\"Low\",axis = 1)\n",
    "VALE3_dataframe = VALE3_dataframe.drop(\"Adj Close\",axis = 1)\n",
    "VALE3_dataframe = VALE3_dataframe.drop(\"Volume\",axis = 1)"
   ]
  },
  {
   "cell_type": "code",
   "execution_count": null,
   "metadata": {},
   "outputs": [],
   "source": [
    "PETR4_dataframe.plot(y = 'Close', kind = 'line')"
   ]
  },
  {
   "cell_type": "code",
   "execution_count": null,
   "metadata": {},
   "outputs": [],
   "source": [
    "VALE3_dataframe.plot(y = 'Close', kind = 'line')"
   ]
  },
  {
   "cell_type": "code",
   "execution_count": null,
   "metadata": {},
   "outputs": [],
   "source": [
    "PETR4inival = PETR4_dataframe.iat[0,0]"
   ]
  },
  {
   "cell_type": "code",
   "execution_count": null,
   "metadata": {},
   "outputs": [],
   "source": [
    "PETR4_dataframe['Close'] = (((PETR4_dataframe['Close'] - PETR4inival))/PETR4inival)*100"
   ]
  },
  {
   "cell_type": "code",
   "execution_count": null,
   "metadata": {},
   "outputs": [],
   "source": [
    "PETR4_dataframe.plot(y = 'Close', kind = 'line')"
   ]
  },
  {
   "cell_type": "code",
   "execution_count": null,
   "metadata": {},
   "outputs": [],
   "source": [
    "VALE3inival = VALE3_dataframe.iat[0,0]"
   ]
  },
  {
   "cell_type": "code",
   "execution_count": null,
   "metadata": {},
   "outputs": [],
   "source": [
    "VALE3_dataframe['Close'] = (((VALE3_dataframe['Close'] - VALE3inival))/VALE3inival)*100"
   ]
  },
  {
   "cell_type": "code",
   "execution_count": null,
   "metadata": {},
   "outputs": [],
   "source": [
    "VALE3_dataframe.plot(y = 'Close', kind = 'line')"
   ]
  },
  {
   "cell_type": "code",
   "execution_count": null,
   "metadata": {},
   "outputs": [],
   "source": [
    "ax = PETR4_dataframe.plot( y = 'Close', label = 'PETR4')\n",
    "VALE3_dataframe.plot (ax=ax,y = 'Close', label = 'VALE3')"
   ]
  }
 ],
 "metadata": {
  "kernelspec": {
   "display_name": "Python 3.10.2 64-bit",
   "language": "python",
   "name": "python3"
  },
  "language_info": {
   "codemirror_mode": {
    "name": "ipython",
    "version": 3
   },
   "file_extension": ".py",
   "mimetype": "text/x-python",
   "name": "python",
   "nbconvert_exporter": "python",
   "pygments_lexer": "ipython3",
   "version": "3.10.2"
  },
  "orig_nbformat": 4,
  "vscode": {
   "interpreter": {
    "hash": "aee8b7b246df8f9039afb4144a1f6fd8d2ca17a180786b69acc140d282b71a49"
   }
  }
 },
 "nbformat": 4,
 "nbformat_minor": 2
}
